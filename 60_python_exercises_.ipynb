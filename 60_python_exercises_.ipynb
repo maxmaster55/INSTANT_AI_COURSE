{
 "cells": [
  {
   "cell_type": "markdown",
   "id": "759d04ba",
   "metadata": {},
   "source": [
    "**1-Write a Python program to calculate the length of a string using 2 ways"
   ]
  },
  {
   "cell_type": "code",
   "execution_count": null,
   "id": "e434c950",
   "metadata": {},
   "outputs": [],
   "source": [
    "name = \"Mohamed\"\n",
    "\n",
    "len_name = len(name)\n",
    "\n",
    "print(len_name)"
   ]
  },
  {
   "cell_type": "code",
   "execution_count": null,
   "id": "7a2dfa32",
   "metadata": {},
   "outputs": [
    {
     "name": "stdout",
     "output_type": "stream",
     "text": [
      "7\n"
     ]
    }
   ],
   "source": [
    "name = \"Mohamed\"\n",
    "len_name = 0\n",
    "for ch in name:\n",
    "    len_name+=1\n",
    "    \n",
    "    \n",
    "print(len_name)"
   ]
  },
  {
   "cell_type": "markdown",
   "id": "d7cc9da7",
   "metadata": {},
   "source": [
    "**2-Write a Python program to get a string made of the first 2 and last 2 characters of a given string. If the string length is less than 2, return the empty string instead (\"##Sample String : 'w3resource'\n",
    "Expected Result : 'w3ce'\n",
    "##Sample String : 'w3'\n",
    "Expected Result : 'w3w3'\n",
    "##Sample String : ' w'\n",
    "Expected Result : Empty String)"
   ]
  },
  {
   "cell_type": "code",
   "execution_count": null,
   "id": "dafa9dd8",
   "metadata": {},
   "outputs": [],
   "source": [
    "string_mo = input(\"Enter your string :  \")\n",
    "\n",
    "len_mo = len(string_mo)\n",
    "\n",
    "m = int(len_mo)\n",
    "\n",
    "if m < 2 :\n",
    "    print(\"Empty String\")\n",
    "    \n",
    "elif m == 2:\n",
    "    print(string_mo*2)\n",
    "    \n",
    "else:\n",
    "    print(string_mo[0]+string_mo[1]+string_mo[m-2]+string_mo[m-1])"
   ]
  },
  {
   "cell_type": "markdown",
   "id": "1534f956",
   "metadata": {},
   "source": [
    "**3-Write a Python program to add 'ing' at the end of a given string (length should be at least 3). If the given string already ends with 'ing', add 'ly' instead. If the string length of the given string is less than 3, leave it unchanged. (Sample String : 'abc'\n",
    "Expected Result : 'abcing')"
   ]
  },
  {
   "cell_type": "code",
   "execution_count": null,
   "id": "7ff8cec4",
   "metadata": {},
   "outputs": [],
   "source": [
    "string_mo = input(\"Enter your string :  \")\n",
    "\n",
    "len_mo = len(string_mo)\n",
    "\n",
    "m = int(len_mo)\n",
    "\n",
    "if m < 3 :\n",
    "    print(string_mo)\n",
    "    \n",
    "elif m>3 and string_mo[m-3] == \"i\" and string_mo[m-2] == \"n\" and string_mo[m-1] == \"g\":\n",
    "    \n",
    "    print(string_mo[0:m-3]+\"ly\")\n",
    "    \n",
    "else:\n",
    "    print(string_mo+\"ing\")"
   ]
  },
  {
   "cell_type": "markdown",
   "id": "1c0a6627",
   "metadata": {},
   "source": [
    "**4-Write a Python function that takes a list of words and return the longest word and the length of the longest one\n",
    "(Longest word: Exercises\n",
    "Length of the longest word: 9)"
   ]
  },
  {
   "cell_type": "code",
   "execution_count": null,
   "id": "397341d9",
   "metadata": {},
   "outputs": [],
   "source": [
    "list_mo = input(\"Enter your string :  \").split()\n",
    "\n",
    "mo_f =0 \n",
    "for n in list_mo :\n",
    "    mo_n = len(n)\n",
    "    if mo_n >= mo_f :\n",
    "        mo_f = mo_n\n",
    "        \n",
    "        \n",
    "print(mo_f)"
   ]
  },
  {
   "cell_type": "markdown",
   "id": "53a03a6a",
   "metadata": {},
   "source": [
    "**5-Write a Python program to change a given string to a newly string where the first and last chars have been exchanged using 2 ways (Sample String:abca  Expected Result:ebce)"
   ]
  },
  {
   "cell_type": "code",
   "execution_count": null,
   "id": "fd327d2a",
   "metadata": {},
   "outputs": [],
   "source": [
    "string_mo = input(\"Enter your string :  \")\n",
    "\n",
    "len_mo = len(string_mo)\n",
    "\n",
    "m = int(len_mo)\n",
    "\n",
    "print(string_mo[m-1]+string_mo[1:m-1]+string_mo[0])"
   ]
  },
  {
   "cell_type": "code",
   "execution_count": null,
   "id": "285788b4",
   "metadata": {},
   "outputs": [],
   "source": [
    "string_mo = input(\"Enter your string :  \")\n",
    "\n",
    "list_mo = list(string_mo)\n",
    "\n",
    "len_mo = len(string_mo)\n",
    "m = int(len_mo)\n",
    "\n",
    "firsrt = list_mo.pop(0)\n",
    "last = list_mo.pop()\n",
    "\n",
    "string_mo2 = \"\".join(list_mo)\n",
    "\n",
    "print(last+string_mo2+firsrt)"
   ]
  },
  {
   "cell_type": "markdown",
   "id": "25f89808",
   "metadata": {},
   "source": [
    "**6-Write a Python program to remove characters that have odd index values in a given string (Sample String:abca Expected Result:ac)"
   ]
  },
  {
   "cell_type": "code",
   "execution_count": null,
   "id": "05959bd7",
   "metadata": {},
   "outputs": [],
   "source": [
    "string_mo = input(\"Enter your string :  \")\n",
    "\n",
    "len_mo = len(string_mo)\n",
    "\n",
    "string_mo2 = \"\"\n",
    "\n",
    "for i in range(len_mo):\n",
    "    if i % 2 == 0:\n",
    "        string_mo2 += string_mo[i]\n",
    "\n",
    "print(string_mo2)"
   ]
  },
  {
   "cell_type": "markdown",
   "id": "eb16e898",
   "metadata": {},
   "source": [
    "**7-Write a Python program to count the occurrences of each word in a given sentence (Sample String:amr and ahmed are frindes but amr is the tallest Expected Result:2)"
   ]
  },
  {
   "cell_type": "code",
   "execution_count": null,
   "id": "01ce6cf5",
   "metadata": {},
   "outputs": [],
   "source": [
    "string_mo = input(\"Enter your string :  \").split()\n",
    "\n",
    "len_mo = len(string_mo)\n",
    "\n",
    "fnum =0\n",
    "for ch1 in range(len_mo):\n",
    "    num =0\n",
    "    for ch2 in range(len_mo):\n",
    "        if string_mo[ch1] == string_mo[ch2]:\n",
    "            num+=1\n",
    "            if num>=fnum :\n",
    "                fnum=num\n",
    "                \n",
    "    \n",
    "print(fnum)"
   ]
  },
  {
   "cell_type": "markdown",
   "id": "4e8125f1",
   "metadata": {},
   "source": [
    "**8-Write a Python script that takes input from the user and displays that input back in upper and lower cases"
   ]
  },
  {
   "cell_type": "code",
   "execution_count": null,
   "id": "66c8f778",
   "metadata": {},
   "outputs": [],
   "source": [
    "\n",
    "string_mo = input(\"Enter your string :  \")\n",
    "\n",
    "string_mo_up =  string_mo.upper()\n",
    "\n",
    "string_mo_lo = string_mo.lower()\n",
    "\n",
    "print(string_mo_up)\n",
    "\n",
    "print(string_mo_lo)\n"
   ]
  },
  {
   "cell_type": "markdown",
   "id": "fcd68aa1",
   "metadata": {},
   "source": [
    "**9-Write a Python function to reverse a string if its length is a multiple of 4"
   ]
  },
  {
   "cell_type": "code",
   "execution_count": null,
   "id": "0671a931",
   "metadata": {},
   "outputs": [],
   "source": [
    "string_mo = input(\"Enter your string :  \")\n",
    "\n",
    "\n",
    "\n",
    "list_mo = list(string_mo)\n",
    "\n",
    "len_mo = len(list_mo)\n",
    "\n",
    "\n",
    "if len_mo % 4 == 0 :\n",
    "    list_mo.reverse()\n",
    "    \n",
    "    \n",
    "finall_string_mo = \"\".join(list_mo)\n",
    "\n",
    "print(finall_string_mo)"
   ]
  },
  {
   "cell_type": "markdown",
   "id": "b577c68d",
   "metadata": {},
   "source": [
    "**10- Write a Python program to remove a newline in Python"
   ]
  },
  {
   "cell_type": "code",
   "execution_count": null,
   "id": "e0c6525a",
   "metadata": {},
   "outputs": [],
   "source": [
    "string_mo = input(\"Enter your string :  \")\n",
    "\n",
    "print(string_mo+\"\\n\".strip(),\"newline\")"
   ]
  },
  {
   "cell_type": "markdown",
   "id": "80db5ae0",
   "metadata": {},
   "source": [
    "**11-Write a Python program to check whether a string starts with specified characters"
   ]
  },
  {
   "cell_type": "code",
   "execution_count": null,
   "id": "0cc4e03e",
   "metadata": {},
   "outputs": [],
   "source": [
    "mo_string = \"mohamed walid\"\n",
    "\n",
    "mo_dep = \"cs\"\n",
    "\n",
    "check_result = mo_string.startswith(\"mohamed\")\n",
    "\n",
    "check_dep = mo_string.startswith(\"is\")\n",
    "\n",
    "print(check_result)\n",
    "\n",
    "print(check_dep)"
   ]
  },
  {
   "cell_type": "markdown",
   "id": "593a68db",
   "metadata": {},
   "source": [
    "**12- Write a Python program to add prefix text to all of the lines in a string"
   ]
  },
  {
   "cell_type": "code",
   "execution_count": null,
   "id": "d2e46ada",
   "metadata": {},
   "outputs": [],
   "source": [
    "mo_string = input(\"Enter your string : \").split()\n",
    "\n",
    "mo_len = len(mo_string)\n",
    "\n",
    "\n",
    "for i in range(mo_len) :\n",
    "    mo_string[i] = \"hello : \"+mo_string[i]\n",
    "    print(mo_string[i]+\"\\n\")\n",
    "    "
   ]
  },
  {
   "cell_type": "markdown",
   "id": "86fa1543",
   "metadata": {},
   "source": [
    "**13-Write a Python program to print the following numbers up to 2 decimal places"
   ]
  },
  {
   "cell_type": "code",
   "execution_count": null,
   "id": "cd4a9d89",
   "metadata": {},
   "outputs": [],
   "source": [
    "mo_number = 59.85954\n",
    "\n",
    "print(\"%.2f\" % mo_number)"
   ]
  },
  {
   "cell_type": "markdown",
   "id": "452c0ab0",
   "metadata": {},
   "source": [
    "**14-Write a Python program to print the following numbers up to 2 decimal places with a sign"
   ]
  },
  {
   "cell_type": "code",
   "execution_count": null,
   "id": "73e82479",
   "metadata": {},
   "outputs": [],
   "source": [
    "mo_number = 59.85954\n",
    "\n",
    "print(\"%.2f\" % mo_number)"
   ]
  },
  {
   "cell_type": "markdown",
   "id": "32b1811a",
   "metadata": {},
   "source": [
    "**15-Write a Python program to display a number with a comma separator"
   ]
  },
  {
   "cell_type": "code",
   "execution_count": null,
   "id": "f30fc0b6",
   "metadata": {},
   "outputs": [],
   "source": [
    "mo_number = 5985954\n",
    "\n",
    "print(f'{mo_number:,}')"
   ]
  },
  {
   "cell_type": "markdown",
   "id": "0477f487",
   "metadata": {},
   "source": [
    "**16-Write a Python program to reverse a string using 2 ways"
   ]
  },
  {
   "cell_type": "code",
   "execution_count": null,
   "id": "aa8beec8",
   "metadata": {},
   "outputs": [],
   "source": [
    "mo_string = \"mohamed walid\"\n",
    "\n",
    "mo_list = list(mo_string)\n",
    "\n",
    "mo_list.reverse()\n",
    "\n",
    "mo_string_re = \"\".join(mo_list)\n",
    "\n",
    "print(mo_string_re)"
   ]
  },
  {
   "cell_type": "markdown",
   "id": "5afc3166",
   "metadata": {},
   "source": [
    " **17-Write a Python program to count repeated characters in a string (hint:use dictionary)"
   ]
  },
  {
   "cell_type": "code",
   "execution_count": null,
   "id": "515a469c",
   "metadata": {},
   "outputs": [],
   "source": [
    "mo_string = \"mohamed walid mohamed\"\n",
    "\n",
    "mo_dicti ={}\n",
    "\n",
    "for ch in mo_string:\n",
    "    if ch in mo_dicti:\n",
    "        mo_dicti[ch]+=1\n",
    "    else:\n",
    "        mo_dicti[ch]=1\n",
    "        \n",
    "        \n",
    "        \n",
    "for ch in mo_dicti :\n",
    "    if mo_dicti[ch] >1:\n",
    "        print(\"your ch is : \",ch,\"dup number is : \",mo_dicti[ch])"
   ]
  },
  {
   "cell_type": "markdown",
   "id": "ae14e4e5",
   "metadata": {},
   "source": [
    "**18-Write a Python program to find the first non-repeating character in a given string"
   ]
  },
  {
   "cell_type": "code",
   "execution_count": null,
   "id": "d73778e5",
   "metadata": {},
   "outputs": [],
   "source": [
    "mo_string = \"mohamed walid mohamed\"\n",
    "\n",
    "mo_dicti ={}\n",
    "\n",
    "for ch in mo_string:\n",
    "    if ch in mo_dicti:\n",
    "        mo_dicti[ch]+=1\n",
    "    else:\n",
    "        mo_dicti[ch]=1\n",
    "        \n",
    "        \n",
    "        \n",
    "for ch in mo_dicti :\n",
    "    if mo_dicti[ch] ==1:\n",
    "        print(\"your ch is : \",ch)"
   ]
  },
  {
   "cell_type": "markdown",
   "id": "3adf5669",
   "metadata": {},
   "source": [
    "**19-Write a Python program to remove spaces from a given string"
   ]
  },
  {
   "cell_type": "code",
   "execution_count": null,
   "id": "b4f22602",
   "metadata": {},
   "outputs": [],
   "source": [
    "mo_string = \"mohamed walid mohamed\"\n",
    "mo_list = list(mo_string)\n",
    "mo_len = len(mo_list)\n",
    "\n",
    "print(mo_list)\n",
    "\n",
    "n = 0\n",
    "while n < mo_len:\n",
    "    if mo_list[n] == ' ':\n",
    "        mo_list.remove(\" \")\n",
    "        mo_len -= 1\n",
    "    else:\n",
    "        n += 1\n",
    "\n",
    "print(mo_list)"
   ]
  },
  {
   "cell_type": "markdown",
   "id": "734de60c",
   "metadata": {},
   "source": [
    "**20-Write a Python program to count the number of non-empty substrings of a given string"
   ]
  },
  {
   "cell_type": "code",
   "execution_count": null,
   "id": "ef3f2274",
   "metadata": {},
   "outputs": [],
   "source": [
    "mo_list = input(\"Enter your string : \").split()\n",
    "\n",
    "\n",
    "mo_len = len(mo_list)\n",
    "\n",
    "cou = 0\n",
    "for i in range(mo_len):\n",
    "    if mo_list[i] != ' ' :\n",
    "        cou+=1\n",
    "\n",
    "\n",
    "\n",
    "print(cou)"
   ]
  },
  {
   "cell_type": "markdown",
   "id": "509998e2",
   "metadata": {},
   "source": [
    "**21-write a Python program to swap first and last element of any list."
   ]
  },
  {
   "cell_type": "code",
   "execution_count": null,
   "id": "68692d7f",
   "metadata": {},
   "outputs": [],
   "source": [
    "mo_list = input(\"Enter your list : \").split()\n",
    "\n",
    "\n",
    "mo_swap = mo_list[0]\n",
    "\n",
    "mo_list[0] = mo_list[-1]\n",
    "\n",
    "mo_list[-1]= mo_swap\n",
    "\n",
    "\n",
    "print(mo_list)"
   ]
  },
  {
   "cell_type": "markdown",
   "id": "959e0837",
   "metadata": {},
   "source": [
    "**22-Given a list in Python and provided the positions of the elements, write a program to swap the two elements in the list. (Input : List = [23, 65, 19, 90], pos1 = 1, pos2 = 3\n",
    "Output : [19, 65, 23, 90])"
   ]
  },
  {
   "cell_type": "code",
   "execution_count": null,
   "id": "225d8c6d",
   "metadata": {},
   "outputs": [],
   "source": [
    "mo_list = input(\"Enter your list : \").split()\n",
    "\n",
    "mo_1 = int(input(\"Enter your pos1 : \"))-1\n",
    "\n",
    "mo_2 = int(input(\"Enter your pos2 : \"))-1\n",
    "\n",
    "\n",
    "mo_swap = mo_list[mo_1]\n",
    "\n",
    "mo_list[mo_1] = mo_list[mo_2]\n",
    "    \n",
    "mo_list[mo_2]= mo_swap\n",
    "    \n",
    "\n",
    "\n",
    "print(mo_list)"
   ]
  },
  {
   "cell_type": "markdown",
   "id": "66fc6682",
   "metadata": {},
   "source": [
    "**23- search for the all ways to know the length of the list"
   ]
  },
  {
   "cell_type": "markdown",
   "id": "a7ee3204",
   "metadata": {},
   "source": [
    "mo_list = ['m','o','h','a','m','e','d']\n",
    "\n",
    "mo_len = len(mo_list)"
   ]
  },
  {
   "cell_type": "markdown",
   "id": "64347adc",
   "metadata": {},
   "source": [
    "mo_list = ['m','o','h','a','m','e','d']\n",
    "\n",
    "mo=0\n",
    "for m in mo_list:\n",
    "    mo+=1\n",
    "    \n",
    "    \n",
    "print(mo)"
   ]
  },
  {
   "cell_type": "markdown",
   "id": "63ff8b43",
   "metadata": {},
   "source": [
    "**24-write a Python code to find the Maximum number of list of numbers."
   ]
  },
  {
   "cell_type": "code",
   "execution_count": null,
   "id": "15f342de",
   "metadata": {},
   "outputs": [],
   "source": [
    "mo_list = input(\"Enter your list : \").split()\n",
    "\n",
    "mo_len = len(mo_list)\n",
    "\n",
    "max_num =0\n",
    "for n in range(mo_len):\n",
    "    if int(mo_list[n]) > max_num :\n",
    "        max_num = int(mo_list[n])\n",
    "\n",
    "\n",
    "\n",
    "print(\"Max number is : \",max_num)"
   ]
  },
  {
   "cell_type": "markdown",
   "id": "1a89b9d3",
   "metadata": {},
   "source": [
    "**25-write a Python code to find the Minimum number of list of numbers."
   ]
  },
  {
   "cell_type": "code",
   "execution_count": null,
   "id": "21f8cbd6",
   "metadata": {},
   "outputs": [],
   "source": [
    "mo_list = input(\"Enter your list : \").split()\n",
    "\n",
    "mo_len = len(mo_list)\n",
    "\n",
    "max_num =0\n",
    "for n in range(mo_len):\n",
    "    if int(mo_list[n]) > max_num :\n",
    "        max_num = int(mo_list[n])\n",
    "\n",
    "\n",
    "min_num = max_num\n",
    "for n in range(mo_len):\n",
    "    if int(mo_list[n]) < min_num :\n",
    "        min_num = int(mo_list[n])\n",
    "\n",
    "\n",
    "\n",
    "print(\"Min number is : \",min_num)"
   ]
  },
  {
   "cell_type": "markdown",
   "id": "96822d96",
   "metadata": {},
   "source": [
    "**26-search for if an elem is existing in list"
   ]
  },
  {
   "cell_type": "code",
   "execution_count": null,
   "id": "51ca5c9a",
   "metadata": {},
   "outputs": [],
   "source": [
    "mo_list = input(\"Enter your list : \").split()\n",
    "\n",
    "mo_elment = input(\"enter your element : \")\n",
    "\n",
    "mo_len = len(mo_list)\n",
    "\n",
    "check =0\n",
    "for n in range(mo_len):\n",
    "    if mo_list[n] == mo_elment:\n",
    "        check+=1\n",
    "        \n",
    "\n",
    "\n",
    "if check>0 :\n",
    "    print(\"YES\")\n",
    "else:\n",
    "    print(\"NO\")"
   ]
  },
  {
   "cell_type": "markdown",
   "id": "d9557da7",
   "metadata": {},
   "source": [
    "**27- clear python list using different ways"
   ]
  },
  {
   "cell_type": "code",
   "execution_count": null,
   "id": "b69858a3",
   "metadata": {},
   "outputs": [],
   "source": [
    "mo_list = [1,5,8,9,77,44]\n",
    "\n",
    "mo_list = []\n",
    "\n",
    "print(mo_list)"
   ]
  },
  {
   "cell_type": "markdown",
   "id": "f880d39c",
   "metadata": {},
   "source": [
    "mo_list = [1,5,8,9,77,44]\n",
    "\n",
    "mo_list.clear()\n",
    "\n",
    "print(mo_list)"
   ]
  },
  {
   "cell_type": "markdown",
   "id": "52160e88",
   "metadata": {},
   "source": [
    "**28-remove duplicated elements from a list"
   ]
  },
  {
   "cell_type": "code",
   "execution_count": null,
   "id": "5e362228",
   "metadata": {},
   "outputs": [],
   "source": [
    "mo_string = \"eeaatt\"\n",
    "\n",
    "mo_list = list(mo_string)\n",
    "\n",
    "mo_list_2 = []\n",
    "\n",
    "for n in mo_list :\n",
    "    if n not in mo_list_2 :\n",
    "        mo_list_2+=n\n",
    "        \n",
    "        \n",
    "mo_string_fin = \"\".join(mo_list_2)\n",
    "\n",
    "print(mo_string_fin)"
   ]
  },
  {
   "cell_type": "markdown",
   "id": "282337f7",
   "metadata": {},
   "source": [
    "**29-Given list values and keys list, convert these values to key value pairs in form of list of dictionaries. (Input : test_list = [“Gfg”, 3, “is”, 8], key_list = [“name”, “id”]\n",
    "Output : [{‘name’: ‘Gfg’, ‘id’: 3}, {‘name’: ‘is’, ‘id’: 8}])"
   ]
  },
  {
   "cell_type": "code",
   "execution_count": null,
   "id": "4d4e2d28",
   "metadata": {},
   "outputs": [],
   "source": [
    "mo_value = ['mohamed', 62556]\n",
    "\n",
    "mo_key = ['name', 'id']\n",
    "\n",
    "len_mo = len(mo_key)\n",
    "\n",
    "\n",
    "mo_dicti = {}\n",
    "for k in range(len_mo):\n",
    "    mo_dicti.update({mo_key[k]:mo_value[k]})\n",
    "        \n",
    "    \n",
    "print(mo_dicti)"
   ]
  },
  {
   "cell_type": "markdown",
   "id": "c26b6e9f",
   "metadata": {},
   "source": [
    "**30-write a python program to count unique values inside a list using different ways"
   ]
  },
  {
   "cell_type": "code",
   "execution_count": null,
   "id": "72132667",
   "metadata": {},
   "outputs": [],
   "source": [
    "mo_list = ['m', 'o', 'h', 'a', 'm', 'e', 'd']\n",
    "\n",
    "mo_uniq = {}\n",
    "for m in mo_list:\n",
    "    if m in mo_uniq:\n",
    "        mo_uniq[m] += 1\n",
    "    else:\n",
    "        mo_uniq[m] = 1\n",
    "\n",
    "print(mo_uniq)\n"
   ]
  },
  {
   "cell_type": "code",
   "execution_count": null,
   "id": "5706b4e2",
   "metadata": {},
   "outputs": [],
   "source": [
    "mo_list = ['m','o','h','a','m','e','d','s','h','a','k','e']\n",
    "\n",
    "mo_len = len(mo_list)\n",
    "\n",
    "count_list = []\n",
    "uniq_list= []\n",
    "\n",
    "for m in mo_list:\n",
    "    count_list.append(mo_list.count(m))\n",
    "    \n",
    "    \n",
    "for k in range(mo_len):\n",
    "    if count_list[k] ==1:\n",
    "        uniq_list.append(mo_list[k])\n",
    "        \n",
    "        \n",
    "        \n",
    "print(uniq_list)"
   ]
  },
  {
   "cell_type": "markdown",
   "id": "fed6677c",
   "metadata": {},
   "source": [
    "**31-write a python program Extract all elements with Frequency greater than K (Input : test_list = [4, 6, 4, 3, 3, 4, 3, 4, 3, 8], K = 3 \n",
    "Output : [4, 3] )"
   ]
  },
  {
   "cell_type": "code",
   "execution_count": null,
   "id": "d81f3f9d",
   "metadata": {},
   "outputs": [],
   "source": [
    "mo_list = [4, 6, 4, 3, 3, 4, 3, 4, 3, 8]\n",
    "\n",
    "k = 3\n",
    "\n",
    "mo_dici = {}\n",
    "\n",
    "\n",
    "for i in mo_list:\n",
    "    if i not in mo_dici :\n",
    "        mo_dici[i]=1 \n",
    "    else:\n",
    "        mo_dici[i]+=1\n",
    "\n",
    "\n",
    "small_value = mo_dici[k]        \n",
    "        \n",
    "value_list =[]\n",
    "for i in mo_dici :\n",
    "    if mo_dici[i] >= small_value :\n",
    "        if i not in value_list:\n",
    "            value_list.append(i)\n",
    "            \n",
    "\n",
    "print(value_list)"
   ]
  },
  {
   "cell_type": "markdown",
   "id": "caca5224",
   "metadata": {},
   "source": [
    "**32-write a python program to find the Strongest Neighbour (Input: 1 2 2 3 4 5\n",
    "Output: 2 2 3 4 5)"
   ]
  },
  {
   "cell_type": "code",
   "execution_count": null,
   "id": "39fbd9b2",
   "metadata": {},
   "outputs": [],
   "source": [
    "mo_list =[1,2,2,3,4,5] \n",
    "\n",
    "print(mo_list)\n",
    "\n",
    "n =0\n",
    "for m in mo_list:\n",
    "    if m >=n:\n",
    "        n=m\n",
    "\n",
    "for m in mo_list:\n",
    "    if m<n:\n",
    "        n=m\n",
    "        \n",
    "\n",
    "\n",
    "mo_list.remove(n)\n",
    "print(mo_list)"
   ]
  },
  {
   "cell_type": "markdown",
   "id": "a9fa8baf",
   "metadata": {},
   "source": [
    "**33-write a Python Program to print all Possible Combinations from the three Digits (Input: [1, 2, 3]\n",
    "Output:\n",
    "1 2 3 ##\n",
    "1 3 2 ##\n",
    "2 1 3 ##\n",
    "2 3 1 ##\n",
    "3 1 2 ##\n",
    "3 2 1)"
   ]
  },
  {
   "cell_type": "code",
   "execution_count": null,
   "id": "8c520a76",
   "metadata": {},
   "outputs": [],
   "source": [
    "data = [1, 2, 3]\n",
    "\n",
    "\n",
    "for i in range(len(data)):\n",
    "    for j in range(len(data)):\n",
    "        for k in range(len(data)):\n",
    "            if i != j and i != k and j != k:\n",
    "                print(f\"{data[i]} {data[j]} {data[k]}\")\n"
   ]
  },
  {
   "cell_type": "markdown",
   "id": "5288bb89",
   "metadata": {},
   "source": [
    "**34-write a Python program to find all the Combinations in the list with the given condition (Input: test_list = [1,2,3] \n",
    "Output: \n",
    " [1], [1, 2], [1, 2, 3], [1, 3]\n",
    " [2], [2, 3], [3])"
   ]
  },
  {
   "cell_type": "code",
   "execution_count": null,
   "id": "59b89646",
   "metadata": {},
   "outputs": [],
   "source": [
    "from itertools import combinations\n",
    "\n",
    "def generate_combinations_with_condition(input_list):\n",
    "    result = []\n",
    "    \n",
    "    for r in range(1, len(input_list) + 1):\n",
    "        for combo in combinations(input_list, r):\n",
    "            result.append(list(combo))\n",
    "    \n",
    "    return result\n",
    "\n",
    "test_list = [1, 2, 3]\n",
    "combinations_with_condition = generate_combinations_with_condition(test_list)\n",
    "\n",
    "for combo in combinations_with_condition:\n",
    "    print(combo)\n"
   ]
  },
  {
   "cell_type": "markdown",
   "id": "39973705",
   "metadata": {},
   "source": [
    "**35-write a Python program to get all unique combinations of two Lists (List_1 = [\"a\",\"b\"]\n",
    "List_2 = [1,2]\n",
    "Unique_combination = [[('a',1),('b',2)],[('a',2),('b',1)]] )"
   ]
  },
  {
   "cell_type": "code",
   "execution_count": null,
   "id": "8c4ba22b",
   "metadata": {},
   "outputs": [],
   "source": []
  },
  {
   "cell_type": "markdown",
   "id": "25199af5",
   "metadata": {},
   "source": [
    "**36-Remove all the occurrences of an element from a list in Python (Input : 1 1 2 3 4 5 1 2 1 \n",
    "\n",
    "**Output : 2 3 4 5 2)"
   ]
  },
  {
   "cell_type": "code",
   "execution_count": null,
   "id": "6dc4c2ba",
   "metadata": {},
   "outputs": [],
   "source": [
    "mo_list =[1,1,2,3,4,5,1,2,1] \n",
    "\n",
    "number_remove = 1\n",
    "\n",
    "list_aft = []\n",
    "\n",
    "for m in mo_list:\n",
    "    if m!=number_remove:\n",
    "        list_aft.append(m)\n",
    "        \n",
    "            \n",
    "\n",
    "\n",
    "print(list_aft)"
   ]
  },
  {
   "cell_type": "markdown",
   "id": "bf1a3c93",
   "metadata": {},
   "source": [
    "**37-write a python program to Replace index elements with elements in Other List (The original list 1 is : [‘Gfg’, ‘is’, ‘best’] The original list 2 is : [0, 1, 2, 1, 0, 0, 0, 2, 1, 1, 2, 0] The lists after index elements replacements is : [‘Gfg’, ‘is’, ‘best’, ‘is’, ‘Gfg’, ‘Gfg’, ‘Gfg’, ‘best’, ‘is’, ‘is’, ‘best’, ‘Gfg’])"
   ]
  },
  {
   "cell_type": "code",
   "execution_count": null,
   "id": "fdd66a71",
   "metadata": {},
   "outputs": [],
   "source": [
    " \n",
    "list1 = ['Gfg','is','best']\n",
    "\n",
    "list2 = [0,1,2,1,0,0,0,2,1,1,2,0]\n",
    "\n",
    "result = []\n",
    "\n",
    "mo_len = len(list2)\n",
    "\n",
    "for i in list2:\n",
    "    result.append(list1[i])\n",
    "    \n",
    "    \n",
    "print(result)"
   ]
  },
  {
   "cell_type": "markdown",
   "id": "af0f56e8",
   "metadata": {},
   "source": [
    "**38- write python program to Retain records with N occurrences of K(Input : test_list = [(4, 5, 5, 4), (5, 4, 3)], K = 5, N = 2 \n",
    "Output : [(4, 5, 5, 4)]\n",
    "Input : test_list = [(4, 5, 5, 4), (5, 4, 3)], K = 5, N = 3 \n",
    "Output : [] )"
   ]
  },
  {
   "cell_type": "code",
   "execution_count": null,
   "id": "67b06671",
   "metadata": {},
   "outputs": [],
   "source": []
  },
  {
   "cell_type": "markdown",
   "id": "de76f183",
   "metadata": {},
   "source": [
    "**39-write a Python Program to Sort the list according to the column using lambda\n",
    "array = [[1, 3, 3], [2, 1, 2], [3, 2, 1]]\n",
    "Output :\n",
    "Sorted array specific to column 0, [[1, 3, 3], [2, 1, 2], [3, 2, 1]]\n",
    "Sorted array specific to column 1, [[2, 1, 2], [3, 2, 1], [1, 3, 3]]\n",
    "Sorted array specific to column 2, [[3, 2, 1], [2, 1, 2], [1, 3, 3]]"
   ]
  },
  {
   "cell_type": "code",
   "execution_count": null,
   "id": "dc883308",
   "metadata": {},
   "outputs": [],
   "source": []
  },
  {
   "cell_type": "markdown",
   "id": "d2e7b31f",
   "metadata": {},
   "source": [
    "**40- write a program to Sort Python Dictionaries by Key or Value\n",
    "Input:\n",
    "{'ravi': 10, 'rajnish': 9, 'sanjeev': 15, 'yash': 2, 'suraj': 32}\n",
    "\n",
    "Output: \n",
    "{'rajnish': 9, 'ravi': 10, 'sanjeev': 15, 'suraj': 32, 'yash': 2}"
   ]
  },
  {
   "cell_type": "code",
   "execution_count": null,
   "id": "a96db4a0",
   "metadata": {},
   "outputs": [],
   "source": []
  },
  {
   "cell_type": "markdown",
   "id": "ec63c23a",
   "metadata": {},
   "source": [
    "**41-write python program to Remove keys with Values Greater than K ( Including mixed values )\n",
    "nput : test_dict = {‘Gfg’ : 3, ‘is’ : 7, ‘best’ : 10, ‘for’ : 6, ‘geeks’ : ‘CS’},\n",
    "K = 7 \n",
    "Output : {‘Gfg’ : 3, ‘for’ : 6, ‘geeks’ : ‘CS’}"
   ]
  },
  {
   "cell_type": "code",
   "execution_count": null,
   "id": "e39c3a40",
   "metadata": {},
   "outputs": [],
   "source": [
    "mo_dici = {'Gfg': 3, 'is': 7, 'best': 10, 'for': 6, 'geeks': 'CS'}\n",
    "\n",
    "K = 7\n",
    "\n",
    "new_dici = {}\n",
    "\n",
    "for m in mo_dici:\n",
    "    if isinstance(mo_dici[m], str):\n",
    "        new_dici[m] = mo_dici[m]\n",
    "    elif mo_dici[m] < K:\n",
    "        new_dici[m] = mo_dici[m]\n",
    "\n",
    "print(new_dici)"
   ]
  },
  {
   "cell_type": "markdown",
   "id": "f143f0fe",
   "metadata": {},
   "source": [
    "**42-Write a Python program to concatenate the following dictionaries to create a new one\n",
    "\n",
    "Sample Dictionary :\n",
    "dic1={1:10, 2:20}\n",
    "dic2={3:30, 4:40}\n",
    "dic3={5:50,6:60}\n",
    "Expected Result : {1: 10, 2: 20, 3: 30, 4: 40, 5: 50, 6: 60}"
   ]
  },
  {
   "cell_type": "code",
   "execution_count": null,
   "id": "74ffdfea",
   "metadata": {},
   "outputs": [],
   "source": [
    "dic1={1:10, 2:20}\n",
    "dic2={3:30, 4:40}\n",
    "dic3={5:50,6:60}\n",
    "\n",
    "result = {}\n",
    "\n",
    "for m in dic1:\n",
    "    result[m]=dic1[m]\n",
    "\n",
    "for x in dic2:\n",
    "    result[x]=dic2[x]\n",
    "    \n",
    "for o in dic3:\n",
    "    result[o]=dic3[o]\n",
    "    \n",
    "print(result)"
   ]
  },
  {
   "cell_type": "markdown",
   "id": "fb04c93c",
   "metadata": {},
   "source": [
    "**43-Write a Python program to iterate over dictionaries using for loops"
   ]
  },
  {
   "cell_type": "code",
   "execution_count": null,
   "id": "6aebc470",
   "metadata": {},
   "outputs": [],
   "source": [
    "mo_dic1 = {'n1':2, 'n2':4, 'n3':5}\n",
    "\n",
    "\n",
    "\n",
    "for m in mo_dic1:\n",
    "    print(\"Your key is : \",m,\"|| Your value is : \",mo_dic1[m])"
   ]
  },
  {
   "cell_type": "markdown",
   "id": "5f491a9d",
   "metadata": {},
   "source": [
    "**44- Write a Python script to merge two Python dictionaries"
   ]
  },
  {
   "cell_type": "code",
   "execution_count": null,
   "id": "b8a14028",
   "metadata": {},
   "outputs": [],
   "source": [
    "mo_dic1 = {'n1':2, 'n2':4, 'n3':5}\n",
    "\n",
    "mo_dic2 = {'n4':6,'n5':9,'n6':7}\n",
    "\n",
    "\n",
    "for m in mo_dic2:\n",
    "    mo_dic1[m] = mo_dic2[m]\n",
    "       \n",
    "        \n",
    "print(mo_dic1)"
   ]
  },
  {
   "cell_type": "markdown",
   "id": "216fc72d",
   "metadata": {},
   "source": [
    "**45-Write a Python program to get the maximum and minimum values of a dictionary values"
   ]
  },
  {
   "cell_type": "code",
   "execution_count": null,
   "id": "d6883f5f",
   "metadata": {},
   "outputs": [],
   "source": [
    "mo_dic = {'n1':2, 'n2':4, 'n3':5}\n",
    "\n",
    "\n",
    "\n",
    "maxum = 0\n",
    "for m in mo_dic:\n",
    "    if mo_dic[m]>=maxum:\n",
    "        maxum = mo_dic[m]\n",
    "        maxkey= m\n",
    "       \n",
    "minum = maxum\n",
    "\n",
    "for n in mo_dic:\n",
    "    if mo_dic[n]<minum:\n",
    "        minum = mo_dic[n]\n",
    "        minkey= n\n",
    "        \n",
    "print(\"the max number is : \",maxum,\" || the key of max : \", maxkey)\n",
    "\n",
    "print(\"the min number is : \",minum,\" || the key of min : \",minkey)"
   ]
  },
  {
   "cell_type": "markdown",
   "id": "b6a53011",
   "metadata": {},
   "source": [
    "**46- Write a Python program to drop empty items from a given dictionary.\n",
    "Original Dictionary:\n",
    "{'c1': 'Red', 'c2': 'Green', 'c3': None}\n",
    "New Dictionary after dropping empty items:\n",
    "{'c1': 'Red', 'c2': 'Green'}"
   ]
  },
  {
   "cell_type": "code",
   "execution_count": null,
   "id": "b5c6fecf",
   "metadata": {},
   "outputs": [],
   "source": [
    "mo_dic = {'c1': 'Red', 'c2': 'Green', 'c3': None}\n",
    "\n",
    "mo_len = len(mo_dic)\n",
    "mo_dic2={}\n",
    "for m in mo_dic:\n",
    "    if mo_dic[m] != None :\n",
    "        mo_dic2[m]=mo_dic[m]\n",
    "\n",
    "\n",
    "print(mo_dic2)        "
   ]
  },
  {
   "cell_type": "markdown",
   "id": "46d718c7",
   "metadata": {},
   "source": [
    "**47-Write a Python program to create a tuple of numbers and print one item"
   ]
  },
  {
   "cell_type": "code",
   "execution_count": null,
   "id": "13216ff5",
   "metadata": {},
   "outputs": [],
   "source": [
    "\n",
    "mo_list = input(\"Enter your tuple : \").split()\n",
    "\n",
    "mo_tuple = tuple(mo_list)\n",
    "\n",
    "print(\"Your tuple is : \",mo_tuple,\"first item :\",mo_tuple[0])"
   ]
  },
  {
   "cell_type": "markdown",
   "id": "2be5b56b",
   "metadata": {},
   "source": [
    "**48-Write a Python program to unpack a tuple into several variables"
   ]
  },
  {
   "cell_type": "code",
   "execution_count": null,
   "id": "595f44be",
   "metadata": {},
   "outputs": [],
   "source": [
    "\n",
    "mo_tuple = (1,5,8)\n",
    "\n",
    "a,b,c = mo_tuple[0],mo_tuple[1],mo_tuple[2]\n",
    "\n",
    "print(a)\n",
    "print(b)\n",
    "print(c)"
   ]
  },
  {
   "cell_type": "markdown",
   "id": "392388a7",
   "metadata": {},
   "source": [
    "**49-Write a Python program to add an item to a tuple"
   ]
  },
  {
   "cell_type": "code",
   "execution_count": null,
   "id": "54cc092e",
   "metadata": {},
   "outputs": [],
   "source": [
    "mo_tuple = (1,5,8,9,8,7,4)\n",
    "\n",
    "add = 100\n",
    "\n",
    "mo_list = list(mo_tuple)\n",
    "\n",
    "\n",
    "mo_list.append(add)\n",
    "\n",
    "mo_tuple = tuple(mo_list)\n",
    "\n",
    "\n",
    "print(mo_tuple)"
   ]
  },
  {
   "cell_type": "markdown",
   "id": "3e8fd124",
   "metadata": {},
   "source": [
    "**50-Write a Python program to convert a tuple to a string"
   ]
  },
  {
   "cell_type": "code",
   "execution_count": null,
   "id": "92a71ddc",
   "metadata": {},
   "outputs": [],
   "source": [
    "mo_tuple = ('m','j','k','l','o','p')\n",
    "\n",
    "mo_str =\"\".join(mo_tuple)\n",
    "\n",
    "print(mo_str,\"\\n\",type(mo_str))"
   ]
  },
  {
   "cell_type": "markdown",
   "id": "f4f64ef4",
   "metadata": {},
   "source": [
    "**51-Write a Python program to convert a list to a tuple"
   ]
  },
  {
   "cell_type": "code",
   "execution_count": null,
   "id": "210d56d3",
   "metadata": {},
   "outputs": [],
   "source": [
    "mo_list = [7,8,9,7,6]\n",
    "\n",
    "mo_tuple = tuple(mo_list)\n",
    "\n",
    "print(type(mo_tuple))"
   ]
  },
  {
   "cell_type": "markdown",
   "id": "b1e00ef7",
   "metadata": {},
   "source": [
    "**52-Write a Python program to reverse a tuple"
   ]
  },
  {
   "cell_type": "code",
   "execution_count": null,
   "id": "f45bfdc7",
   "metadata": {},
   "outputs": [],
   "source": [
    "mo_tuple = (1,2,3,4,5,6)\n",
    "\n",
    "mo_list = list(mo_tuple)\n",
    "\n",
    "mo_list.reverse()\n",
    "\n",
    "mo_tuple_re = tuple(mo_list)\n",
    "\n",
    "print(mo_tuple_re)"
   ]
  },
  {
   "cell_type": "markdown",
   "id": "3cd347d1",
   "metadata": {},
   "source": [
    "**53-Write a Python program to replace the last value of tuples in a list.\n",
    "Sample list: [(10, 20, 40), (40, 50, 60), (70, 80, 90)]\n",
    "Expected Output: [(10, 20, 100), (40, 50, 100), (70, 80, 100)]"
   ]
  },
  {
   "cell_type": "code",
   "execution_count": null,
   "id": "3c4a2a4c",
   "metadata": {},
   "outputs": [],
   "source": [
    "mo_list =  [(10, 20, 40), (40, 50, 60), (70, 80, 90)]\n",
    "\n",
    "mo_len=len(mo_list)\n",
    "\n",
    "for i in range(mo_len) :\n",
    "    mo_list[i] = list(mo_list[i])\n",
    "    \n",
    "    \n",
    "for i in range(mo_len) :\n",
    "    mo_list[i][-1]=100\n",
    "    \n",
    "    \n",
    "    \n",
    "for i in range(mo_len) :\n",
    "    mo_list[i] = tuple(mo_list[i])  \n",
    "\n",
    "print(mo_list)"
   ]
  },
  {
   "cell_type": "markdown",
   "id": "76bb7b39",
   "metadata": {},
   "source": [
    "**54-Write a Python program to convert a given string list to a tuple\n",
    "Original string: python 3.0\n",
    "<class 'str'>\n",
    "Convert the said string to a tuple:\n",
    "('p', 'y', 't', 'h', 'o', 'n', '3', '.', '0')"
   ]
  },
  {
   "cell_type": "code",
   "execution_count": null,
   "id": "51951937",
   "metadata": {},
   "outputs": [],
   "source": [
    "mo_tuple = ('p', 'y', 't', 'h', 'o', 'n', '3', '.', '0')\n",
    "\n",
    "mo_string = ''.join(mo_tuple)\n",
    "\n",
    "\n",
    "print(\"tuple before convert :  \", mo_tuple ,\" type : \", type(mo_tuple))\n",
    "\n",
    "print(\"\\n\")\n",
    "\n",
    "print(\"tuple after convert :  \", mo_string ,\" type : \", type(mo_string))"
   ]
  },
  {
   "cell_type": "markdown",
   "id": "5a1d5d97",
   "metadata": {},
   "source": [
    "**55-Write a Python program to calculate the average value of the numbers in a given tuple of tuples"
   ]
  },
  {
   "cell_type": "code",
   "execution_count": null,
   "id": "834e7992",
   "metadata": {},
   "outputs": [],
   "source": [
    "mo_tuple=(9,0,3,2,1)\n",
    "\n",
    "mo_len = len(mo_tuple)\n",
    "\n",
    "sum=0\n",
    "for num in mo_tuple:\n",
    "    sum+=num\n",
    "\n",
    "aver = sum/mo_len\n",
    "\n",
    "print(aver)"
   ]
  },
  {
   "cell_type": "code",
   "execution_count": null,
   "id": "3a253b1b",
   "metadata": {},
   "outputs": [],
   "source": [
    "mo_tuple = tuple(input(\"please enter your tuple : \").split())\n",
    "\n",
    "mo_len = len(mo_tuple)\n",
    "\n",
    "sum=0\n",
    "for num in mo_tuple:\n",
    "    sum+=int(num)\n",
    "\n",
    "aver = sum/mo_len\n",
    "\n",
    "print(\"your average is : \",aver)"
   ]
  },
  {
   "cell_type": "markdown",
   "id": "51edab9c",
   "metadata": {},
   "source": [
    "**56-Write a Python program to add member(s) to a set."
   ]
  },
  {
   "cell_type": "code",
   "execution_count": null,
   "id": "2b65df79",
   "metadata": {},
   "outputs": [],
   "source": [
    "mo_set={8,7,4,3,5}\n",
    "\n",
    "mo_set.add(0)\n",
    "\n",
    "mo_set.add(1)   \n",
    "\n",
    "mo_set.add(2)   \n",
    "      \n",
    "        \n",
    "print(mo_set)"
   ]
  },
  {
   "cell_type": "markdown",
   "id": "965590cc",
   "metadata": {},
   "source": [
    "**57-Write a Python program to remove an item from a set if it is present in the set."
   ]
  },
  {
   "cell_type": "code",
   "execution_count": null,
   "id": "866bab28",
   "metadata": {},
   "outputs": [],
   "source": [
    "momo_set={8,7,4,3,5,5,5}\n",
    "\n",
    "mo_list = list(mo_set)\n",
    "\n",
    "\n",
    "mo_list_fin =[]\n",
    "\n",
    "\n",
    "for m in mo_list :\n",
    "    if m not in mo_list_fin:\n",
    "        mo_list_fin.append(m)\n",
    "        \n",
    "        \n",
    "        \n",
    "print(mo_list_fin)"
   ]
  },
  {
   "cell_type": "code",
   "execution_count": null,
   "id": "5b3c31d0",
   "metadata": {},
   "outputs": [],
   "source": [
    "mo_set={8,7,4,3,5,5,5}\n",
    "        \n",
    "print(mo_set)"
   ]
  },
  {
   "cell_type": "markdown",
   "id": "2b7cfed1",
   "metadata": {},
   "source": [
    "**58-Write a Python program to create an intersection,union,difference and symmetric difference of sets"
   ]
  },
  {
   "cell_type": "code",
   "execution_count": null,
   "id": "7f94b7fe",
   "metadata": {},
   "outputs": [],
   "source": [
    "\n",
    "mo_set_1 = {5,8,1,2,3}\n",
    "\n",
    "mo_set_2 = {7,6,1,2,3}  \n",
    "\n",
    "union = mo_set_1.union(mo_set_2)\n",
    "\n",
    "intre = mo_set_1.intersection(mo_set_2)\n",
    "\n",
    "diff = mo_set_1.difference(mo_set_2)\n",
    "\n",
    "sym_diff =mo_set_1.symmetric_difference(mo_set_2)\n",
    "\n",
    "\n",
    "print(\"union : \",union)\n",
    "print(\"intersection : \",intre)\n",
    "print(\"difference : \",diff)\n",
    "print(\"symmetric_difference : \",sym_diff)"
   ]
  },
  {
   "cell_type": "markdown",
   "id": "b94931e2",
   "metadata": {},
   "source": [
    "**59-Write a Python program to find the maximum and minimum values in a set"
   ]
  },
  {
   "cell_type": "code",
   "execution_count": null,
   "id": "203f9600",
   "metadata": {},
   "outputs": [],
   "source": [
    "mo_input = input(\"please enter your set : \")\n",
    "\n",
    "mo_set  = set(map(int,mo_input.split()))\n",
    "\n",
    "mo_list = list(mo_set)\n",
    "\n",
    "max_num = mo_list[-1]\n",
    "\n",
    "min_num = mo_list[0]\n",
    "\n",
    "print(\"max_num : \",max_num,\" min_num : \",min_num)"
   ]
  },
  {
   "cell_type": "markdown",
   "id": "255fd554",
   "metadata": {},
   "source": [
    "**60- Write a Python program that finds all pairs of elements in a list whose sum is equal to a given value."
   ]
  },
  {
   "cell_type": "code",
   "execution_count": null,
   "id": "c2d94e1f",
   "metadata": {},
   "outputs": [],
   "source": [
    "mo_list = [1,2,3,4,5,6,7,8]\n",
    "\n",
    "mo_len = len(mo_list)\n",
    "mo_num = 9\n",
    "\n",
    "mo_list1 = []\n",
    "for i in range(mo_len) :\n",
    "    for m in range(i+1,mo_len):\n",
    "        if mo_list[i] + mo_list[m] == mo_num :\n",
    "            mo_list1.append((mo_list[i],mo_list[m]))\n",
    "\n",
    "\n",
    "\n",
    "print(mo_list1)"
   ]
  }
 ],
 "metadata": {
  "kernelspec": {
   "display_name": "Python 3",
   "language": "python",
   "name": "python3"
  },
  "language_info": {
   "codemirror_mode": {
    "name": "ipython",
    "version": 3
   },
   "file_extension": ".py",
   "mimetype": "text/x-python",
   "name": "python",
   "nbconvert_exporter": "python",
   "pygments_lexer": "ipython3",
   "version": "3.10.10"
  },
  "vscode": {
   "interpreter": {
    "hash": "afb734500600fd355917ca529030176ea0ca205570884b88f2f6f7d791fd3fbe"
   }
  }
 },
 "nbformat": 4,
 "nbformat_minor": 5
}
